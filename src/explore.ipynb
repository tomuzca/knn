{
    "cells": [
        {
            "cell_type": "markdown",
            "metadata": {},
            "source": [
                "# Explore here"
            ]
        },
        {
            "cell_type": "code",
            "execution_count": 1,
            "metadata": {},
            "outputs": [],
            "source": [
                "import pandas as pd\n",
                "\n",
                "peliculas = pd.read_csv(\"https://raw.githubusercontent.com/4GeeksAcademy/k-nearest-neighbors-project-tutorial/main/tmdb_5000_movies.csv\")\n",
                "creditos = pd.read_csv(\"https://raw.githubusercontent.com/4GeeksAcademy/k-nearest-neighbors-project-tutorial/main/tmdb_5000_credits.csv\")\n",
                "\n"
            ]
        },
        {
            "cell_type": "code",
            "execution_count": 2,
            "metadata": {},
            "outputs": [
                {
                    "data": {
                        "text/plain": [
                            "4803"
                        ]
                    },
                    "execution_count": 2,
                    "metadata": {},
                    "output_type": "execute_result"
                }
            ],
            "source": [
                "import sqlite3\n",
                "\n",
                "conn = sqlite3.connect(\"../data/peliculas_db.db\")\n",
                "peliculas.to_sql(\"peliculas\", conn, if_exists=\"replace\", index=False)\n",
                "creditos.to_sql(\"creditos\", conn, if_exists=\"replace\", index=False)"
            ]
        },
        {
            "cell_type": "code",
            "execution_count": 3,
            "metadata": {},
            "outputs": [
                {
                    "name": "stdout",
                    "output_type": "stream",
                    "text": [
                        "<class 'pandas.core.frame.DataFrame'>\n",
                        "RangeIndex: 4803 entries, 0 to 4802\n",
                        "Data columns (total 20 columns):\n",
                        " #   Column                Non-Null Count  Dtype  \n",
                        "---  ------                --------------  -----  \n",
                        " 0   budget                4803 non-null   int64  \n",
                        " 1   genres                4803 non-null   object \n",
                        " 2   homepage              1712 non-null   object \n",
                        " 3   id                    4803 non-null   int64  \n",
                        " 4   keywords              4803 non-null   object \n",
                        " 5   original_language     4803 non-null   object \n",
                        " 6   original_title        4803 non-null   object \n",
                        " 7   overview              4800 non-null   object \n",
                        " 8   popularity            4803 non-null   float64\n",
                        " 9   production_companies  4803 non-null   object \n",
                        " 10  production_countries  4803 non-null   object \n",
                        " 11  release_date          4802 non-null   object \n",
                        " 12  revenue               4803 non-null   int64  \n",
                        " 13  runtime               4801 non-null   float64\n",
                        " 14  spoken_languages      4803 non-null   object \n",
                        " 15  status                4803 non-null   object \n",
                        " 16  tagline               3959 non-null   object \n",
                        " 17  title                 4803 non-null   object \n",
                        " 18  vote_average          4803 non-null   float64\n",
                        " 19  vote_count            4803 non-null   int64  \n",
                        "dtypes: float64(3), int64(4), object(13)\n",
                        "memory usage: 750.6+ KB\n"
                    ]
                }
            ],
            "source": [
                "peliculas.info()\n"
            ]
        },
        {
            "cell_type": "code",
            "execution_count": 4,
            "metadata": {},
            "outputs": [
                {
                    "name": "stdout",
                    "output_type": "stream",
                    "text": [
                        "<class 'pandas.core.frame.DataFrame'>\n",
                        "RangeIndex: 4809 entries, 0 to 4808\n",
                        "Data columns (total 24 columns):\n",
                        " #   Column                Non-Null Count  Dtype  \n",
                        "---  ------                --------------  -----  \n",
                        " 0   budget                4809 non-null   int64  \n",
                        " 1   genres                4809 non-null   object \n",
                        " 2   homepage              1713 non-null   object \n",
                        " 3   id                    4809 non-null   int64  \n",
                        " 4   keywords              4809 non-null   object \n",
                        " 5   original_language     4809 non-null   object \n",
                        " 6   original_title        4809 non-null   object \n",
                        " 7   overview              4806 non-null   object \n",
                        " 8   popularity            4809 non-null   float64\n",
                        " 9   production_companies  4809 non-null   object \n",
                        " 10  production_countries  4809 non-null   object \n",
                        " 11  release_date          4808 non-null   object \n",
                        " 12  revenue               4809 non-null   int64  \n",
                        " 13  runtime               4807 non-null   float64\n",
                        " 14  spoken_languages      4809 non-null   object \n",
                        " 15  status                4809 non-null   object \n",
                        " 16  tagline               3965 non-null   object \n",
                        " 17  title                 4809 non-null   object \n",
                        " 18  vote_average          4809 non-null   float64\n",
                        " 19  vote_count            4809 non-null   int64  \n",
                        " 20  movie_id              4809 non-null   int64  \n",
                        " 21  title                 4809 non-null   object \n",
                        " 22  cast                  4809 non-null   object \n",
                        " 23  crew                  4809 non-null   object \n",
                        "dtypes: float64(3), int64(5), object(16)\n",
                        "memory usage: 901.8+ KB\n"
                    ]
                }
            ],
            "source": [
                "query = \"\"\"\n",
                "SELECT *\n",
                "FROM peliculas\n",
                "INNER JOIN creditos\n",
                "ON peliculas.title = creditos.title;\n",
                "\"\"\"\n",
                "\n",
                "df = pd.read_sql_query(query,conn)\n",
                "conn.close()\n",
                "df.info ()"
            ]
        },
        {
            "cell_type": "code",
            "execution_count": 5,
            "metadata": {},
            "outputs": [
                {
                    "data": {
                        "text/plain": [
                            "Index(['budget', 'genres', 'homepage', 'id', 'keywords', 'original_language',\n",
                            "       'original_title', 'overview', 'popularity', 'production_companies',\n",
                            "       'production_countries', 'release_date', 'revenue', 'runtime',\n",
                            "       'spoken_languages', 'status', 'tagline', 'title', 'vote_average',\n",
                            "       'vote_count', 'movie_id', 'title', 'cast', 'crew'],\n",
                            "      dtype='object')"
                        ]
                    },
                    "execution_count": 5,
                    "metadata": {},
                    "output_type": "execute_result"
                }
            ],
            "source": [
                "df.columns"
            ]
        },
        {
            "cell_type": "code",
            "execution_count": 6,
            "metadata": {},
            "outputs": [],
            "source": [
                "borrar= \"title\"\n",
                "df = df.drop(borrar,axis=1)"
            ]
        },
        {
            "cell_type": "code",
            "execution_count": 7,
            "metadata": {},
            "outputs": [
                {
                    "data": {
                        "text/html": [
                            "<div>\n",
                            "<style scoped>\n",
                            "    .dataframe tbody tr th:only-of-type {\n",
                            "        vertical-align: middle;\n",
                            "    }\n",
                            "\n",
                            "    .dataframe tbody tr th {\n",
                            "        vertical-align: top;\n",
                            "    }\n",
                            "\n",
                            "    .dataframe thead th {\n",
                            "        text-align: right;\n",
                            "    }\n",
                            "</style>\n",
                            "<table border=\"1\" class=\"dataframe\">\n",
                            "  <thead>\n",
                            "    <tr style=\"text-align: right;\">\n",
                            "      <th></th>\n",
                            "      <th>budget</th>\n",
                            "      <th>genres</th>\n",
                            "      <th>homepage</th>\n",
                            "      <th>id</th>\n",
                            "      <th>keywords</th>\n",
                            "      <th>original_language</th>\n",
                            "      <th>original_title</th>\n",
                            "      <th>overview</th>\n",
                            "      <th>popularity</th>\n",
                            "      <th>production_companies</th>\n",
                            "      <th>...</th>\n",
                            "      <th>revenue</th>\n",
                            "      <th>runtime</th>\n",
                            "      <th>spoken_languages</th>\n",
                            "      <th>status</th>\n",
                            "      <th>tagline</th>\n",
                            "      <th>vote_average</th>\n",
                            "      <th>vote_count</th>\n",
                            "      <th>movie_id</th>\n",
                            "      <th>cast</th>\n",
                            "      <th>crew</th>\n",
                            "    </tr>\n",
                            "  </thead>\n",
                            "  <tbody>\n",
                            "    <tr>\n",
                            "      <th>0</th>\n",
                            "      <td>237000000</td>\n",
                            "      <td>[Action, Adventure, Fantasy, Science Fiction]</td>\n",
                            "      <td>http://www.avatarmovie.com/</td>\n",
                            "      <td>19995</td>\n",
                            "      <td>[{\"id\": 1463, \"name\": \"culture clash\"}, {\"id\":...</td>\n",
                            "      <td>en</td>\n",
                            "      <td>Avatar</td>\n",
                            "      <td>In the 22nd century, a paraplegic Marine is di...</td>\n",
                            "      <td>150.437577</td>\n",
                            "      <td>[{\"name\": \"Ingenious Film Partners\", \"id\": 289...</td>\n",
                            "      <td>...</td>\n",
                            "      <td>2787965087</td>\n",
                            "      <td>162.0</td>\n",
                            "      <td>[{\"iso_639_1\": \"en\", \"name\": \"English\"}, {\"iso...</td>\n",
                            "      <td>Released</td>\n",
                            "      <td>Enter the World of Pandora.</td>\n",
                            "      <td>7.2</td>\n",
                            "      <td>11800</td>\n",
                            "      <td>19995</td>\n",
                            "      <td>[{\"cast_id\": 242, \"character\": \"Jake Sully\", \"...</td>\n",
                            "      <td>[{\"credit_id\": \"52fe48009251416c750aca23\", \"de...</td>\n",
                            "    </tr>\n",
                            "    <tr>\n",
                            "      <th>1</th>\n",
                            "      <td>300000000</td>\n",
                            "      <td>[Adventure, Fantasy, Action]</td>\n",
                            "      <td>http://disney.go.com/disneypictures/pirates/</td>\n",
                            "      <td>285</td>\n",
                            "      <td>[{\"id\": 270, \"name\": \"ocean\"}, {\"id\": 726, \"na...</td>\n",
                            "      <td>en</td>\n",
                            "      <td>Pirates of the Caribbean: At World's End</td>\n",
                            "      <td>Captain Barbossa, long believed to be dead, ha...</td>\n",
                            "      <td>139.082615</td>\n",
                            "      <td>[{\"name\": \"Walt Disney Pictures\", \"id\": 2}, {\"...</td>\n",
                            "      <td>...</td>\n",
                            "      <td>961000000</td>\n",
                            "      <td>169.0</td>\n",
                            "      <td>[{\"iso_639_1\": \"en\", \"name\": \"English\"}]</td>\n",
                            "      <td>Released</td>\n",
                            "      <td>At the end of the world, the adventure begins.</td>\n",
                            "      <td>6.9</td>\n",
                            "      <td>4500</td>\n",
                            "      <td>285</td>\n",
                            "      <td>[{\"cast_id\": 4, \"character\": \"Captain Jack Spa...</td>\n",
                            "      <td>[{\"credit_id\": \"52fe4232c3a36847f800b579\", \"de...</td>\n",
                            "    </tr>\n",
                            "    <tr>\n",
                            "      <th>2</th>\n",
                            "      <td>245000000</td>\n",
                            "      <td>[Action, Adventure, Crime]</td>\n",
                            "      <td>http://www.sonypictures.com/movies/spectre/</td>\n",
                            "      <td>206647</td>\n",
                            "      <td>[{\"id\": 470, \"name\": \"spy\"}, {\"id\": 818, \"name...</td>\n",
                            "      <td>en</td>\n",
                            "      <td>Spectre</td>\n",
                            "      <td>A cryptic message from Bond’s past sends him o...</td>\n",
                            "      <td>107.376788</td>\n",
                            "      <td>[{\"name\": \"Columbia Pictures\", \"id\": 5}, {\"nam...</td>\n",
                            "      <td>...</td>\n",
                            "      <td>880674609</td>\n",
                            "      <td>148.0</td>\n",
                            "      <td>[{\"iso_639_1\": \"fr\", \"name\": \"Fran\\u00e7ais\"},...</td>\n",
                            "      <td>Released</td>\n",
                            "      <td>A Plan No One Escapes</td>\n",
                            "      <td>6.3</td>\n",
                            "      <td>4466</td>\n",
                            "      <td>206647</td>\n",
                            "      <td>[{\"cast_id\": 1, \"character\": \"James Bond\", \"cr...</td>\n",
                            "      <td>[{\"credit_id\": \"54805967c3a36829b5002c41\", \"de...</td>\n",
                            "    </tr>\n",
                            "    <tr>\n",
                            "      <th>3</th>\n",
                            "      <td>250000000</td>\n",
                            "      <td>[Action, Crime, Drama, Thriller]</td>\n",
                            "      <td>http://www.thedarkknightrises.com/</td>\n",
                            "      <td>49026</td>\n",
                            "      <td>[{\"id\": 849, \"name\": \"dc comics\"}, {\"id\": 853,...</td>\n",
                            "      <td>en</td>\n",
                            "      <td>The Dark Knight Rises</td>\n",
                            "      <td>Following the death of District Attorney Harve...</td>\n",
                            "      <td>112.312950</td>\n",
                            "      <td>[{\"name\": \"Legendary Pictures\", \"id\": 923}, {\"...</td>\n",
                            "      <td>...</td>\n",
                            "      <td>1084939099</td>\n",
                            "      <td>165.0</td>\n",
                            "      <td>[{\"iso_639_1\": \"en\", \"name\": \"English\"}]</td>\n",
                            "      <td>Released</td>\n",
                            "      <td>The Legend Ends</td>\n",
                            "      <td>7.6</td>\n",
                            "      <td>9106</td>\n",
                            "      <td>49026</td>\n",
                            "      <td>[{\"cast_id\": 2, \"character\": \"Bruce Wayne / Ba...</td>\n",
                            "      <td>[{\"credit_id\": \"52fe4781c3a36847f81398c3\", \"de...</td>\n",
                            "    </tr>\n",
                            "    <tr>\n",
                            "      <th>4</th>\n",
                            "      <td>260000000</td>\n",
                            "      <td>[Action, Adventure, Science Fiction]</td>\n",
                            "      <td>http://movies.disney.com/john-carter</td>\n",
                            "      <td>49529</td>\n",
                            "      <td>[{\"id\": 818, \"name\": \"based on novel\"}, {\"id\":...</td>\n",
                            "      <td>en</td>\n",
                            "      <td>John Carter</td>\n",
                            "      <td>John Carter is a war-weary, former military ca...</td>\n",
                            "      <td>43.926995</td>\n",
                            "      <td>[{\"name\": \"Walt Disney Pictures\", \"id\": 2}]</td>\n",
                            "      <td>...</td>\n",
                            "      <td>284139100</td>\n",
                            "      <td>132.0</td>\n",
                            "      <td>[{\"iso_639_1\": \"en\", \"name\": \"English\"}]</td>\n",
                            "      <td>Released</td>\n",
                            "      <td>Lost in our world, found in another.</td>\n",
                            "      <td>6.1</td>\n",
                            "      <td>2124</td>\n",
                            "      <td>49529</td>\n",
                            "      <td>[{\"cast_id\": 5, \"character\": \"John Carter\", \"c...</td>\n",
                            "      <td>[{\"credit_id\": \"52fe479ac3a36847f813eaa3\", \"de...</td>\n",
                            "    </tr>\n",
                            "  </tbody>\n",
                            "</table>\n",
                            "<p>5 rows × 22 columns</p>\n",
                            "</div>"
                        ],
                        "text/plain": [
                            "      budget                                         genres  \\\n",
                            "0  237000000  [Action, Adventure, Fantasy, Science Fiction]   \n",
                            "1  300000000                   [Adventure, Fantasy, Action]   \n",
                            "2  245000000                     [Action, Adventure, Crime]   \n",
                            "3  250000000               [Action, Crime, Drama, Thriller]   \n",
                            "4  260000000           [Action, Adventure, Science Fiction]   \n",
                            "\n",
                            "                                       homepage      id  \\\n",
                            "0                   http://www.avatarmovie.com/   19995   \n",
                            "1  http://disney.go.com/disneypictures/pirates/     285   \n",
                            "2   http://www.sonypictures.com/movies/spectre/  206647   \n",
                            "3            http://www.thedarkknightrises.com/   49026   \n",
                            "4          http://movies.disney.com/john-carter   49529   \n",
                            "\n",
                            "                                            keywords original_language  \\\n",
                            "0  [{\"id\": 1463, \"name\": \"culture clash\"}, {\"id\":...                en   \n",
                            "1  [{\"id\": 270, \"name\": \"ocean\"}, {\"id\": 726, \"na...                en   \n",
                            "2  [{\"id\": 470, \"name\": \"spy\"}, {\"id\": 818, \"name...                en   \n",
                            "3  [{\"id\": 849, \"name\": \"dc comics\"}, {\"id\": 853,...                en   \n",
                            "4  [{\"id\": 818, \"name\": \"based on novel\"}, {\"id\":...                en   \n",
                            "\n",
                            "                             original_title  \\\n",
                            "0                                    Avatar   \n",
                            "1  Pirates of the Caribbean: At World's End   \n",
                            "2                                   Spectre   \n",
                            "3                     The Dark Knight Rises   \n",
                            "4                               John Carter   \n",
                            "\n",
                            "                                            overview  popularity  \\\n",
                            "0  In the 22nd century, a paraplegic Marine is di...  150.437577   \n",
                            "1  Captain Barbossa, long believed to be dead, ha...  139.082615   \n",
                            "2  A cryptic message from Bond’s past sends him o...  107.376788   \n",
                            "3  Following the death of District Attorney Harve...  112.312950   \n",
                            "4  John Carter is a war-weary, former military ca...   43.926995   \n",
                            "\n",
                            "                                production_companies  ...     revenue runtime  \\\n",
                            "0  [{\"name\": \"Ingenious Film Partners\", \"id\": 289...  ...  2787965087   162.0   \n",
                            "1  [{\"name\": \"Walt Disney Pictures\", \"id\": 2}, {\"...  ...   961000000   169.0   \n",
                            "2  [{\"name\": \"Columbia Pictures\", \"id\": 5}, {\"nam...  ...   880674609   148.0   \n",
                            "3  [{\"name\": \"Legendary Pictures\", \"id\": 923}, {\"...  ...  1084939099   165.0   \n",
                            "4        [{\"name\": \"Walt Disney Pictures\", \"id\": 2}]  ...   284139100   132.0   \n",
                            "\n",
                            "                                    spoken_languages    status  \\\n",
                            "0  [{\"iso_639_1\": \"en\", \"name\": \"English\"}, {\"iso...  Released   \n",
                            "1           [{\"iso_639_1\": \"en\", \"name\": \"English\"}]  Released   \n",
                            "2  [{\"iso_639_1\": \"fr\", \"name\": \"Fran\\u00e7ais\"},...  Released   \n",
                            "3           [{\"iso_639_1\": \"en\", \"name\": \"English\"}]  Released   \n",
                            "4           [{\"iso_639_1\": \"en\", \"name\": \"English\"}]  Released   \n",
                            "\n",
                            "                                          tagline vote_average vote_count  \\\n",
                            "0                     Enter the World of Pandora.          7.2      11800   \n",
                            "1  At the end of the world, the adventure begins.          6.9       4500   \n",
                            "2                           A Plan No One Escapes          6.3       4466   \n",
                            "3                                 The Legend Ends          7.6       9106   \n",
                            "4            Lost in our world, found in another.          6.1       2124   \n",
                            "\n",
                            "   movie_id                                               cast  \\\n",
                            "0     19995  [{\"cast_id\": 242, \"character\": \"Jake Sully\", \"...   \n",
                            "1       285  [{\"cast_id\": 4, \"character\": \"Captain Jack Spa...   \n",
                            "2    206647  [{\"cast_id\": 1, \"character\": \"James Bond\", \"cr...   \n",
                            "3     49026  [{\"cast_id\": 2, \"character\": \"Bruce Wayne / Ba...   \n",
                            "4     49529  [{\"cast_id\": 5, \"character\": \"John Carter\", \"c...   \n",
                            "\n",
                            "                                                crew  \n",
                            "0  [{\"credit_id\": \"52fe48009251416c750aca23\", \"de...  \n",
                            "1  [{\"credit_id\": \"52fe4232c3a36847f800b579\", \"de...  \n",
                            "2  [{\"credit_id\": \"54805967c3a36829b5002c41\", \"de...  \n",
                            "3  [{\"credit_id\": \"52fe4781c3a36847f81398c3\", \"de...  \n",
                            "4  [{\"credit_id\": \"52fe479ac3a36847f813eaa3\", \"de...  \n",
                            "\n",
                            "[5 rows x 22 columns]"
                        ]
                    },
                    "execution_count": 7,
                    "metadata": {},
                    "output_type": "execute_result"
                }
            ],
            "source": [
                "import json\n",
                "def cargar_json(json_str, default = None):\n",
                "    try:\n",
                "        return json.loads(json_str)\n",
                "    except:\n",
                "        return default\n",
                "df['genres'] = df['genres'].apply(lambda x: [item[\"name\"] for item in cargar_json(x)])\n",
                "df.head()"
            ]
        },
        {
            "cell_type": "code",
            "execution_count": 8,
            "metadata": {},
            "outputs": [
                {
                    "name": "stdout",
                    "output_type": "stream",
                    "text": [
                        "<class 'pandas.core.frame.DataFrame'>\n",
                        "RangeIndex: 4809 entries, 0 to 4808\n",
                        "Data columns (total 22 columns):\n",
                        " #   Column                Non-Null Count  Dtype  \n",
                        "---  ------                --------------  -----  \n",
                        " 0   budget                4809 non-null   int64  \n",
                        " 1   genres                4809 non-null   object \n",
                        " 2   homepage              1713 non-null   object \n",
                        " 3   id                    4809 non-null   int64  \n",
                        " 4   keywords              4809 non-null   object \n",
                        " 5   original_language     4809 non-null   object \n",
                        " 6   original_title        4809 non-null   object \n",
                        " 7   overview              4806 non-null   object \n",
                        " 8   popularity            4809 non-null   float64\n",
                        " 9   production_companies  4809 non-null   object \n",
                        " 10  production_countries  4809 non-null   object \n",
                        " 11  release_date          4808 non-null   object \n",
                        " 12  revenue               4809 non-null   int64  \n",
                        " 13  runtime               4807 non-null   float64\n",
                        " 14  spoken_languages      4809 non-null   object \n",
                        " 15  status                4809 non-null   object \n",
                        " 16  tagline               3965 non-null   object \n",
                        " 17  vote_average          4809 non-null   float64\n",
                        " 18  vote_count            4809 non-null   int64  \n",
                        " 19  movie_id              4809 non-null   int64  \n",
                        " 20  cast                  4809 non-null   object \n",
                        " 21  crew                  4809 non-null   object \n",
                        "dtypes: float64(3), int64(5), object(14)\n",
                        "memory usage: 826.7+ KB\n"
                    ]
                }
            ],
            "source": [
                "df['production_companies'] = df['production_companies'].apply(lambda x: [item[\"name\"] for item in cargar_json(x)])\n",
                "df['spoken_languages'] = df['spoken_languages'].apply(lambda x: [item[\"name\"] for item in cargar_json(x)])\n",
                "df['cast'] = df['cast'].apply(lambda x: [item[\"name\"] for item in cargar_json(x)])\n",
                "df['crew'] = df['crew'].apply(lambda x: [item[\"name\"] for item in cargar_json(x)])\n",
                "df['production_countries'] = df['production_countries'].apply(lambda x: [item[\"name\"] for item in cargar_json(x)])\n",
                "\n",
                "df.info()"
            ]
        },
        {
            "cell_type": "code",
            "execution_count": 9,
            "metadata": {},
            "outputs": [
                {
                    "data": {
                        "text/plain": [
                            "0    [Action, Adventure, Fantasy, Science Fiction]\n",
                            "1                     [Adventure, Fantasy, Action]\n",
                            "2                       [Action, Adventure, Crime]\n",
                            "3                 [Action, Crime, Drama, Thriller]\n",
                            "4             [Action, Adventure, Science Fiction]\n",
                            "Name: genres, dtype: object"
                        ]
                    },
                    "execution_count": 9,
                    "metadata": {},
                    "output_type": "execute_result"
                }
            ],
            "source": [
                "df['genres'] = df['genres'].apply(lambda x: [str(genre) for genre in x])\n",
                "df[\"genres\"].head()"
            ]
        },
        {
            "cell_type": "code",
            "execution_count": 10,
            "metadata": {},
            "outputs": [
                {
                    "data": {
                        "text/plain": [
                            "0    Action Adventure Fantasy Science Fiction Sam W...\n",
                            "1    Adventure Fantasy Action Johnny Depp Orlando B...\n",
                            "2    Action Adventure Crime Daniel Craig Christoph ...\n",
                            "3    Action Crime Drama Thriller Christian Bale Mic...\n",
                            "4    Action Adventure Science Fiction Taylor Kitsch...\n",
                            "Name: juntas, dtype: object"
                        ]
                    },
                    "execution_count": 10,
                    "metadata": {},
                    "output_type": "execute_result"
                }
            ],
            "source": [
                "df['cast'] = df['cast'].apply(lambda x: [str(genre) for genre in x])\n",
                "df['juntas'] = df['genres'] + df['cast']\n",
                "df['juntas'] = df['juntas'].apply(lambda x: \",\".join(x).replace(\",\",\" \"))\n",
                "df['juntas'].head()\n"
            ]
        },
        {
            "cell_type": "code",
            "execution_count": 11,
            "metadata": {},
            "outputs": [
                {
                    "name": "stdout",
                    "output_type": "stream",
                    "text": [
                        "  (0, 26482)\t0.0690045952062409\n",
                        "  (0, 15799)\t0.08955053036498059\n",
                        "  (0, 34709)\t0.10234944330114712\n",
                        "  (0, 23300)\t0.10234944330114712\n",
                        "  (0, 33776)\t0.10234944330114712\n",
                        "  (0, 26633)\t0.033938844663546006\n",
                        "  (0, 2162)\t0.060281987420413435\n",
                        "  (0, 32822)\t0.09427422831634903\n",
                        "  (0, 690)\t0.06215683787936596\n",
                        "  (0, 30385)\t0.08248900424024101\n",
                        "  (0, 28898)\t0.08248900424024101\n",
                        "  (0, 26584)\t0.09762574534977869\n",
                        "  (0, 27310)\t0.08248900424024101\n",
                        "  (0, 11489)\t0.0796794487669009\n",
                        "  (0, 26009)\t0.10234944330114712\n",
                        "  (0, 25341)\t0.08955053036498059\n",
                        "  (0, 30506)\t0.05587748950784949\n",
                        "  (0, 25188)\t0.10234944330114712\n",
                        "  (0, 19020)\t0.06215683787936596\n",
                        "  (0, 24330)\t0.10234944330114712\n",
                        "  (0, 15970)\t0.07441378925544294\n",
                        "  (0, 23508)\t0.08619901333155096\n",
                        "  (0, 31409)\t0.051445058542585735\n",
                        "  (0, 14482)\t0.06179274347821219\n",
                        "  (0, 21706)\t0.07887567680432059\n",
                        "  :\t:\n",
                        "  (4807, 34857)\t0.3918371616456619\n",
                        "  (4807, 9597)\t0.3071376901212841\n",
                        "  (4807, 13719)\t0.3810321408137528\n",
                        "  (4807, 526)\t0.18492155276468458\n",
                        "  (4807, 24597)\t0.27357422982220825\n",
                        "  (4807, 7547)\t0.16557020209005632\n",
                        "  (4807, 3296)\t0.1636841188961137\n",
                        "  (4807, 27310)\t0.34285358645431296\n",
                        "  (4808, 13829)\t0.39889749240685085\n",
                        "  (4808, 9134)\t0.29667740619686733\n",
                        "  (4808, 8621)\t0.216533296487091\n",
                        "  (4808, 9575)\t0.31754250878126544\n",
                        "  (4808, 2467)\t0.2676599289537579\n",
                        "  (4808, 10411)\t0.2744494294294854\n",
                        "  (4808, 18332)\t0.3017276151554593\n",
                        "  (4808, 6829)\t0.2297320809929095\n",
                        "  (4808, 8956)\t0.22918830106974708\n",
                        "  (4808, 12582)\t0.21905645007350602\n",
                        "  (4808, 27770)\t0.20599422230485784\n",
                        "  (4808, 26866)\t0.1902557039382446\n",
                        "  (4808, 4313)\t0.15119819591397593\n",
                        "  (4808, 9855)\t0.17169290564449322\n",
                        "  (4808, 15018)\t0.18306034528865192\n",
                        "  (4808, 3296)\t0.15348634018444518\n",
                        "  (4808, 20669)\t0.16065594000831476\n"
                    ]
                }
            ],
            "source": [
                "from sklearn.feature_extraction.text import TfidfVectorizer\n",
                "from sklearn.neighbors import NearestNeighbors\n",
                "\n",
                "vectorizer = TfidfVectorizer()\n",
                "tfid_matrix = vectorizer.fit_transform(df['juntas'])\n",
                "\n",
                "print(tfid_matrix)"
            ]
        },
        {
            "cell_type": "code",
            "execution_count": 12,
            "metadata": {},
            "outputs": [
                {
                    "data": {
                        "text/html": [
                            "<style>#sk-container-id-1 {color: black;}#sk-container-id-1 pre{padding: 0;}#sk-container-id-1 div.sk-toggleable {background-color: white;}#sk-container-id-1 label.sk-toggleable__label {cursor: pointer;display: block;width: 100%;margin-bottom: 0;padding: 0.3em;box-sizing: border-box;text-align: center;}#sk-container-id-1 label.sk-toggleable__label-arrow:before {content: \"▸\";float: left;margin-right: 0.25em;color: #696969;}#sk-container-id-1 label.sk-toggleable__label-arrow:hover:before {color: black;}#sk-container-id-1 div.sk-estimator:hover label.sk-toggleable__label-arrow:before {color: black;}#sk-container-id-1 div.sk-toggleable__content {max-height: 0;max-width: 0;overflow: hidden;text-align: left;background-color: #f0f8ff;}#sk-container-id-1 div.sk-toggleable__content pre {margin: 0.2em;color: black;border-radius: 0.25em;background-color: #f0f8ff;}#sk-container-id-1 input.sk-toggleable__control:checked~div.sk-toggleable__content {max-height: 200px;max-width: 100%;overflow: auto;}#sk-container-id-1 input.sk-toggleable__control:checked~label.sk-toggleable__label-arrow:before {content: \"▾\";}#sk-container-id-1 div.sk-estimator input.sk-toggleable__control:checked~label.sk-toggleable__label {background-color: #d4ebff;}#sk-container-id-1 div.sk-label input.sk-toggleable__control:checked~label.sk-toggleable__label {background-color: #d4ebff;}#sk-container-id-1 input.sk-hidden--visually {border: 0;clip: rect(1px 1px 1px 1px);clip: rect(1px, 1px, 1px, 1px);height: 1px;margin: -1px;overflow: hidden;padding: 0;position: absolute;width: 1px;}#sk-container-id-1 div.sk-estimator {font-family: monospace;background-color: #f0f8ff;border: 1px dotted black;border-radius: 0.25em;box-sizing: border-box;margin-bottom: 0.5em;}#sk-container-id-1 div.sk-estimator:hover {background-color: #d4ebff;}#sk-container-id-1 div.sk-parallel-item::after {content: \"\";width: 100%;border-bottom: 1px solid gray;flex-grow: 1;}#sk-container-id-1 div.sk-label:hover label.sk-toggleable__label {background-color: #d4ebff;}#sk-container-id-1 div.sk-serial::before {content: \"\";position: absolute;border-left: 1px solid gray;box-sizing: border-box;top: 0;bottom: 0;left: 50%;z-index: 0;}#sk-container-id-1 div.sk-serial {display: flex;flex-direction: column;align-items: center;background-color: white;padding-right: 0.2em;padding-left: 0.2em;position: relative;}#sk-container-id-1 div.sk-item {position: relative;z-index: 1;}#sk-container-id-1 div.sk-parallel {display: flex;align-items: stretch;justify-content: center;background-color: white;position: relative;}#sk-container-id-1 div.sk-item::before, #sk-container-id-1 div.sk-parallel-item::before {content: \"\";position: absolute;border-left: 1px solid gray;box-sizing: border-box;top: 0;bottom: 0;left: 50%;z-index: -1;}#sk-container-id-1 div.sk-parallel-item {display: flex;flex-direction: column;z-index: 1;position: relative;background-color: white;}#sk-container-id-1 div.sk-parallel-item:first-child::after {align-self: flex-end;width: 50%;}#sk-container-id-1 div.sk-parallel-item:last-child::after {align-self: flex-start;width: 50%;}#sk-container-id-1 div.sk-parallel-item:only-child::after {width: 0;}#sk-container-id-1 div.sk-dashed-wrapped {border: 1px dashed gray;margin: 0 0.4em 0.5em 0.4em;box-sizing: border-box;padding-bottom: 0.4em;background-color: white;}#sk-container-id-1 div.sk-label label {font-family: monospace;font-weight: bold;display: inline-block;line-height: 1.2em;}#sk-container-id-1 div.sk-label-container {text-align: center;}#sk-container-id-1 div.sk-container {/* jupyter's `normalize.less` sets `[hidden] { display: none; }` but bootstrap.min.css set `[hidden] { display: none !important; }` so we also need the `!important` here to be able to override the default hidden behavior on the sphinx rendered scikit-learn.org. See: https://github.com/scikit-learn/scikit-learn/issues/21755 */display: inline-block !important;position: relative;}#sk-container-id-1 div.sk-text-repr-fallback {display: none;}</style><div id=\"sk-container-id-1\" class=\"sk-top-container\"><div class=\"sk-text-repr-fallback\"><pre>NearestNeighbors(algorithm=&#x27;brute&#x27;, metric=&#x27;cosine&#x27;)</pre><b>In a Jupyter environment, please rerun this cell to show the HTML representation or trust the notebook. <br />On GitHub, the HTML representation is unable to render, please try loading this page with nbviewer.org.</b></div><div class=\"sk-container\" hidden><div class=\"sk-item\"><div class=\"sk-estimator sk-toggleable\"><input class=\"sk-toggleable__control sk-hidden--visually\" id=\"sk-estimator-id-1\" type=\"checkbox\" checked><label for=\"sk-estimator-id-1\" class=\"sk-toggleable__label sk-toggleable__label-arrow\">NearestNeighbors</label><div class=\"sk-toggleable__content\"><pre>NearestNeighbors(algorithm=&#x27;brute&#x27;, metric=&#x27;cosine&#x27;)</pre></div></div></div></div></div>"
                        ],
                        "text/plain": [
                            "NearestNeighbors(algorithm='brute', metric='cosine')"
                        ]
                    },
                    "execution_count": 12,
                    "metadata": {},
                    "output_type": "execute_result"
                }
            ],
            "source": [
                "model = NearestNeighbors(algorithm='brute',metric='cosine')\n",
                "model.fit(tfid_matrix)"
            ]
        },
        {
            "cell_type": "code",
            "execution_count": 17,
            "metadata": {},
            "outputs": [
                {
                    "name": "stdout",
                    "output_type": "stream",
                    "text": [
                        "Recomendada: Charlie's Angels\n",
                        "Recomendada: Idiocracy\n",
                        "Recomendada: The Dark Knight\n",
                        "Recomendada: The Royal Tenenbaums\n"
                    ]
                }
            ],
            "source": [
                "def similares(title_pelicula):\n",
                "    indice = df[df['original_title'] == title_pelicula].index[0]\n",
                "    distances, indices = model.kneighbors(tfid_matrix[indice])\n",
                "    peliculas_similares = [(df['original_title'][i], distances[0][j]) for j,i in enumerate(indices[0])]\n",
                "    return peliculas_similares[1:]\n",
                "\n",
                "titulo_pelicula = 'Avatar'\n",
                "recomendaciones = similares(titulo_pelicula)\n",
                "for movie, distance in recomendaciones:\n",
                "    print(\"Recomendada: {}\".format(movie))"
            ]
        }
    ],
    "metadata": {
        "kernelspec": {
            "display_name": "Python 3.8.13 64-bit ('3.8.13')",
            "language": "python",
            "name": "python3"
        },
        "language_info": {
            "codemirror_mode": {
                "name": "ipython",
                "version": 3
            },
            "file_extension": ".py",
            "mimetype": "text/x-python",
            "name": "python",
            "nbconvert_exporter": "python",
            "pygments_lexer": "ipython3",
            "version": "3.11.4"
        },
        "orig_nbformat": 4,
        "vscode": {
            "interpreter": {
                "hash": "110cc1dee26208153f2972f08a2ad52b6a56238dc66d48e87fb757ef2996db56"
            }
        }
    },
    "nbformat": 4,
    "nbformat_minor": 2
}
