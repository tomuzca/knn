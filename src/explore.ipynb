{
    "cells": [
        {
            "cell_type": "markdown",
            "metadata": {},
            "source": [
                "# Explore here"
            ]
        },
        {
            "cell_type": "code",
            "execution_count": 1,
            "metadata": {},
            "outputs": [],
            "source": [
                "import pandas as pd\n",
                "\n",
                "peliculas = pd.read_csv(\"https://raw.githubusercontent.com/4GeeksAcademy/k-nearest-neighbors-project-tutorial/main/tmdb_5000_movies.csv\")\n",
                "creditos = pd.read_csv(\"https://raw.githubusercontent.com/4GeeksAcademy/k-nearest-neighbors-project-tutorial/main/tmdb_5000_credits.csv\")\n",
                "\n"
            ]
        },
        {
            "cell_type": "code",
            "execution_count": 2,
            "metadata": {},
            "outputs": [
                {
                    "data": {
                        "text/plain": [
                            "4803"
                        ]
                    },
                    "execution_count": 2,
                    "metadata": {},
                    "output_type": "execute_result"
                }
            ],
            "source": [
                "import sqlite3\n",
                "\n",
                "conn = sqlite3.connect(\"../data/peliculas_db.db\")\n",
                "peliculas.to_sql(\"peliculas\", conn, if_exists=\"replace\", index=False)\n",
                "creditos.to_sql(\"creditos\", conn, if_exists=\"replace\", index=False)"
            ]
        },
        {
            "cell_type": "code",
            "execution_count": 4,
            "metadata": {},
            "outputs": [
                {
                    "name": "stdout",
                    "output_type": "stream",
                    "text": [
                        "<class 'pandas.core.frame.DataFrame'>\n",
                        "RangeIndex: 4803 entries, 0 to 4802\n",
                        "Data columns (total 20 columns):\n",
                        " #   Column                Non-Null Count  Dtype  \n",
                        "---  ------                --------------  -----  \n",
                        " 0   budget                4803 non-null   int64  \n",
                        " 1   genres                4803 non-null   object \n",
                        " 2   homepage              1712 non-null   object \n",
                        " 3   id                    4803 non-null   int64  \n",
                        " 4   keywords              4803 non-null   object \n",
                        " 5   original_language     4803 non-null   object \n",
                        " 6   original_title        4803 non-null   object \n",
                        " 7   overview              4800 non-null   object \n",
                        " 8   popularity            4803 non-null   float64\n",
                        " 9   production_companies  4803 non-null   object \n",
                        " 10  production_countries  4803 non-null   object \n",
                        " 11  release_date          4802 non-null   object \n",
                        " 12  revenue               4803 non-null   int64  \n",
                        " 13  runtime               4801 non-null   float64\n",
                        " 14  spoken_languages      4803 non-null   object \n",
                        " 15  status                4803 non-null   object \n",
                        " 16  tagline               3959 non-null   object \n",
                        " 17  title                 4803 non-null   object \n",
                        " 18  vote_average          4803 non-null   float64\n",
                        " 19  vote_count            4803 non-null   int64  \n",
                        "dtypes: float64(3), int64(4), object(13)\n",
                        "memory usage: 750.6+ KB\n"
                    ]
                }
            ],
            "source": [
                "peliculas.info()\n"
            ]
        },
        {
            "cell_type": "code",
            "execution_count": 12,
            "metadata": {},
            "outputs": [
                {
                    "name": "stdout",
                    "output_type": "stream",
                    "text": [
                        "<class 'pandas.core.frame.DataFrame'>\n",
                        "RangeIndex: 4809 entries, 0 to 4808\n",
                        "Data columns (total 24 columns):\n",
                        " #   Column                Non-Null Count  Dtype  \n",
                        "---  ------                --------------  -----  \n",
                        " 0   budget                4809 non-null   int64  \n",
                        " 1   genres                4809 non-null   object \n",
                        " 2   homepage              1713 non-null   object \n",
                        " 3   id                    4809 non-null   int64  \n",
                        " 4   keywords              4809 non-null   object \n",
                        " 5   original_language     4809 non-null   object \n",
                        " 6   original_title        4809 non-null   object \n",
                        " 7   overview              4806 non-null   object \n",
                        " 8   popularity            4809 non-null   float64\n",
                        " 9   production_companies  4809 non-null   object \n",
                        " 10  production_countries  4809 non-null   object \n",
                        " 11  release_date          4808 non-null   object \n",
                        " 12  revenue               4809 non-null   int64  \n",
                        " 13  runtime               4807 non-null   float64\n",
                        " 14  spoken_languages      4809 non-null   object \n",
                        " 15  status                4809 non-null   object \n",
                        " 16  tagline               3965 non-null   object \n",
                        " 17  title                 4809 non-null   object \n",
                        " 18  vote_average          4809 non-null   float64\n",
                        " 19  vote_count            4809 non-null   int64  \n",
                        " 20  movie_id              4809 non-null   int64  \n",
                        " 21  title                 4809 non-null   object \n",
                        " 22  cast                  4809 non-null   object \n",
                        " 23  crew                  4809 non-null   object \n",
                        "dtypes: float64(3), int64(5), object(16)\n",
                        "memory usage: 901.8+ KB\n"
                    ]
                }
            ],
            "source": [
                "query = \"\"\"\n",
                "SELECT *\n",
                "FROM peliculas\n",
                "INNER JOIN creditos\n",
                "ON peliculas.title = creditos.title;\n",
                "\"\"\"\n",
                "\n",
                "df = pd.read_sql_query(query,conn)\n",
                "conn.close()\n",
                "df.info ()"
            ]
        },
        {
            "cell_type": "code",
            "execution_count": 13,
            "metadata": {},
            "outputs": [
                {
                    "data": {
                        "text/plain": [
                            "Index(['budget', 'genres', 'homepage', 'id', 'keywords', 'original_language',\n",
                            "       'original_title', 'overview', 'popularity', 'production_companies',\n",
                            "       'production_countries', 'release_date', 'revenue', 'runtime',\n",
                            "       'spoken_languages', 'status', 'tagline', 'title', 'vote_average',\n",
                            "       'vote_count', 'movie_id', 'title', 'cast', 'crew'],\n",
                            "      dtype='object')"
                        ]
                    },
                    "execution_count": 13,
                    "metadata": {},
                    "output_type": "execute_result"
                }
            ],
            "source": [
                "df.columns"
            ]
        },
        {
            "cell_type": "code",
            "execution_count": 24,
            "metadata": {},
            "outputs": [],
            "source": [
                "borrar= \"title\"\n",
                "df = df.drop(borrar,axis=1)"
            ]
        },
        {
            "cell_type": "code",
            "execution_count": null,
            "metadata": {},
            "outputs": [],
            "source": [
                "import json\n",
                "def cargar_json(json_str, default = None)\n",
                "    try:\n",
                "        return json.loads(json_str)\n",
                "    except:\n",
                "        return default\n",
                "df['genres'] = df['genres'].apply(lambda x: [item[\"name\"] for item in cargar_json(x)])"
            ]
        }
    ],
    "metadata": {
        "kernelspec": {
            "display_name": "Python 3.8.13 64-bit ('3.8.13')",
            "language": "python",
            "name": "python3"
        },
        "language_info": {
            "codemirror_mode": {
                "name": "ipython",
                "version": 3
            },
            "file_extension": ".py",
            "mimetype": "text/x-python",
            "name": "python",
            "nbconvert_exporter": "python",
            "pygments_lexer": "ipython3",
            "version": "3.11.4"
        },
        "orig_nbformat": 4,
        "vscode": {
            "interpreter": {
                "hash": "110cc1dee26208153f2972f08a2ad52b6a56238dc66d48e87fb757ef2996db56"
            }
        }
    },
    "nbformat": 4,
    "nbformat_minor": 2
}
